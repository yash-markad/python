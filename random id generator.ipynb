{
 "cells": [
  {
   "cell_type": "code",
   "execution_count": 1,
   "metadata": {},
   "outputs": [],
   "source": [
    "#making a list of random names\n",
    "name=['john','raju','komal','kunal','raju','rani','rohit','suraj','sakshi']\n",
    "middle=['sachin','balu','vijay','ramu','akash','ajay']\n",
    "last=['dole','bole','kale','sawan','hola','bhola']\n"
   ]
  },
  {
   "cell_type": "code",
   "execution_count": 2,
   "metadata": {},
   "outputs": [],
   "source": [
    "#for number we know numbers starts with 9,8 and 7\n",
    "number=[9,8,7]"
   ]
  },
  {
   "cell_type": "code",
   "execution_count": 3,
   "metadata": {},
   "outputs": [],
   "source": [
    "#for random selection we need random module\n",
    "import random"
   ]
  },
  {
   "cell_type": "code",
   "execution_count": 7,
   "metadata": {},
   "outputs": [
    {
     "name": "stdout",
     "output_type": "stream",
     "text": [
      "komal ramu hola\n",
      "Mobile number: 8876044725\n",
      "Email address: komalhola61@dumgmail.com\n",
      "\n",
      "\n",
      "suraj akash kale\n",
      "Mobile number: 8724141830\n",
      "Email address: surajkale36@dumgmail.com\n",
      "\n",
      "\n",
      "rohit vijay dole\n",
      "Mobile number: 8509825768\n",
      "Email address: rohitdole76@dumgmail.com\n",
      "\n",
      "\n",
      "rani ajay bhola\n",
      "Mobile number: 9115371242\n",
      "Email address: ranibhola100@dumgmail.com\n",
      "\n",
      "\n",
      "raju ramu bole\n",
      "Mobile number: 8569321909\n",
      "Email address: rajubole102@dumgmail.com\n",
      "\n",
      "\n",
      "kunal balu kale\n",
      "Mobile number: 9636805746\n",
      "Email address: kunalkale28@dumgmail.com\n",
      "\n",
      "\n",
      "rohit balu dole\n",
      "Mobile number: 9202370081\n",
      "Email address: rohitdole5@dumgmail.com\n",
      "\n",
      "\n",
      "john balu dole\n",
      "Mobile number: 9161311530\n",
      "Email address: johndole59@dumgmail.com\n",
      "\n",
      "\n",
      "sakshi akash sawan\n",
      "Mobile number: 8377286604\n",
      "Email address: sakshisawan87@dumgmail.com\n",
      "\n",
      "\n",
      "komal sachin sawan\n",
      "Mobile number: 7290354555\n",
      "Email address: komalsawan9@dumgmail.com\n",
      "\n",
      "\n",
      "rohit balu bole\n",
      "Mobile number: 7713097791\n",
      "Email address: rohitbole102@dumgmail.com\n",
      "\n",
      "\n"
     ]
    }
   ],
   "source": [
    "for i in range(11):#we are taking random 10 output\n",
    "    a=random.choice(name)\n",
    "    b=random.choice(middle)\n",
    "    c=random.choice(last)\n",
    "    n=random.choice(number)\n",
    "    num=random.randint(111111111,999999999)#taking last 9 random number for phone number\n",
    "    rand=random.randint(1,111)\n",
    "    \n",
    "    print(f'{a} {b} {c}\\nMobile number: {n}{num}\\nEmail address: {a}{c}{rand}@dumgmail.com\\n\\n')"
   ]
  },
  {
   "cell_type": "code",
   "execution_count": null,
   "metadata": {},
   "outputs": [],
   "source": []
  }
 ],
 "metadata": {
  "kernelspec": {
   "display_name": "Python 3",
   "language": "python",
   "name": "python3"
  },
  "language_info": {
   "codemirror_mode": {
    "name": "ipython",
    "version": 3
   },
   "file_extension": ".py",
   "mimetype": "text/x-python",
   "name": "python",
   "nbconvert_exporter": "python",
   "pygments_lexer": "ipython3",
   "version": "3.7.4"
  }
 },
 "nbformat": 4,
 "nbformat_minor": 2
}
